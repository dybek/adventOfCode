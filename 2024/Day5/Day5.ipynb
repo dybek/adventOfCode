{
 "cells": [
  {
   "cell_type": "code",
   "metadata": {
    "ExecuteTime": {
     "end_time": "2024-12-09T16:32:45.521639Z",
     "start_time": "2024-12-09T16:32:45.295767Z"
    }
   },
   "source": [
    "import kotlin.io.path.*\n",
    "import java.math.BigInteger\n",
    "import java.security.MessageDigest\n",
    "import kotlin.io.path.Path\n",
    "import kotlin.io.path.readLines\n",
    "\n",
    "\n",
    "/**\n",
    " * Reads lines from the given input txt file.\n",
    " */\n",
    "fun readInput(name: String) = Path(\"./$name.input\").readLines()\n",
    "\n",
    "/**\n",
    " * Converts string to md5 hash.\n",
    " */\n",
    "fun String.md5() = BigInteger(1, MessageDigest.getInstance(\"MD5\").digest(toByteArray()))\n",
    "    .toString(16)\n",
    "    .padStart(32, '0')\n",
    "\n",
    "/**\n",
    " * The cleaner shorthand for printing output.\n",
    " */\n",
    "fun Any?.println() = println(this)\n"
   ],
   "outputs": [],
   "execution_count": 1
  },
  {
   "metadata": {
    "ExecuteTime": {
     "end_time": "2024-12-09T21:31:10.911437Z",
     "start_time": "2024-12-09T21:31:09.996635Z"
    }
   },
   "cell_type": "code",
   "source": [
    "var testInput = readInput(\"data_test\")\n",
    "var input = readInput(\"data\")\n",
    "\n",
    "fun isNotValidPrevs(prevs: List<Int>, rules: List<Int>): Boolean {\n",
    "    return prevs.any { prev -> rules.contains(prev) }\n",
    "}\n",
    "\n",
    "fun validateRow(row: List<Int>, rulesMap: Map<Int, List<Int>>): Boolean {\n",
    "    var prevs = emptyList<Int>()\n",
    "    for (page in row) {\n",
    "        val rules = rulesMap[page]\n",
    "        if (rules != null) {\n",
    "            if (isNotValidPrevs(prevs, rules)) {\n",
    "                return false\n",
    "            }\n",
    "        }\n",
    "        prevs += page\n",
    "    }\n",
    "    return true\n",
    "}\n",
    "\n",
    "public fun part1(input: List<String>) {\n",
    "\n",
    "    val fullInput = input.joinToString(separator = \"\\n\")\n",
    "    val (rules, pages) = fullInput.split(\"\\n\\n\")\n",
    "    var rulesMap = rules.split(\"\\n\").map {\n",
    "        it.split(\"|\")\n",
    "    }.groupBy(keySelector = { (key, _) -> key.toInt() }, valueTransform = { (_, value) -> value.toInt() })\n",
    "\n",
    "    val allRows = pages.split(\"\\n\").map {\n",
    "        it.split(',').map { it.toInt() }\n",
    "    }\n",
    "    allRows.map { row ->\n",
    "        if (validateRow(row, rulesMap)) {\n",
    "            row[row.size / 2]\n",
    "        } else {\n",
    "            0\n",
    "        }\n",
    "    }.sum().println()\n",
    "\n",
    "}\n",
    "\n",
    "public fun part2(input: List<String>) {\n",
    "\n",
    "    val fullInput = input.joinToString(separator = \"\\n\")\n",
    "    val (rules, pages) = fullInput.split(\"\\n\\n\")\n",
    "    var rulesMap = rules.split(\"\\n\").map {\n",
    "        it.split(\"|\")\n",
    "    }.groupBy(keySelector = { (key, _) -> key.toInt() }, valueTransform = { (_, value) -> value.toInt() })\n",
    "\n",
    "    val allRows = pages.split(\"\\n\").map {\n",
    "        it.split(',').map { it.toInt() }\n",
    "    }\n",
    "    allRows.map { row ->\n",
    "        if (!validateRow(row, rulesMap)) {\n",
    "            val newRow = correctRow(row, rulesMap)\n",
    "            newRow[newRow.size / 2]\n",
    "        } else {\n",
    "            0\n",
    "        }\n",
    "    }.sum().println()\n",
    "\n",
    "}\n",
    "\n",
    "fun correctRow(row: List<Int>, rulesMap: Map<Int, List<Int>>): List<Int> {\n",
    "//    var newRow = row.toMutableList()\n",
    "    var newRow = row.sortedWith({ a, b ->\n",
    "        if (rulesMap[a] == null)\n",
    "            return@sortedWith 0\n",
    "        else if (rulesMap[a]!!.contains(b))\n",
    "            return@sortedWith -1\n",
    "        else if (rulesMap[b] != null && rulesMap[b]!!.contains(a))\n",
    "            return@sortedWith 1\n",
    "        else 0\n",
    "    })\n",
    "    return newRow\n",
    "}"
   ],
   "outputs": [],
   "execution_count": 4
  },
  {
   "metadata": {
    "ExecuteTime": {
     "end_time": "2024-12-09T21:31:12.223304Z",
     "start_time": "2024-12-09T21:31:12.152509Z"
    }
   },
   "cell_type": "code",
   "source": [
    "part1(testInput)\n",
    "part1(input)"
   ],
   "outputs": [
    {
     "name": "stdout",
     "output_type": "stream",
     "text": [
      "143\n",
      "5248\n"
     ]
    }
   ],
   "execution_count": 5
  },
  {
   "metadata": {
    "ExecuteTime": {
     "end_time": "2024-12-09T21:31:13.996345Z",
     "start_time": "2024-12-09T21:31:13.941074Z"
    }
   },
   "cell_type": "code",
   "source": "part2(testInput)",
   "outputs": [
    {
     "name": "stdout",
     "output_type": "stream",
     "text": [
      "123\n"
     ]
    }
   ],
   "execution_count": 6
  },
  {
   "metadata": {
    "ExecuteTime": {
     "end_time": "2024-12-09T21:31:20.164622Z",
     "start_time": "2024-12-09T21:31:20.111588Z"
    }
   },
   "cell_type": "code",
   "source": "part2(input)",
   "outputs": [
    {
     "name": "stdout",
     "output_type": "stream",
     "text": [
      "4507\n"
     ]
    }
   ],
   "execution_count": 7
  },
  {
   "metadata": {},
   "cell_type": "code",
   "outputs": [],
   "execution_count": null,
   "source": ""
  }
 ],
 "metadata": {
  "kernelspec": {
   "display_name": "Kotlin",
   "language": "kotlin",
   "name": "kotlin"
  },
  "language_info": {
   "name": "kotlin",
   "version": "1.9.23",
   "mimetype": "text/x-kotlin",
   "file_extension": ".kt",
   "pygments_lexer": "kotlin",
   "codemirror_mode": "text/x-kotlin",
   "nbconvert_exporter": ""
  }
 },
 "nbformat": 4,
 "nbformat_minor": 0
}
