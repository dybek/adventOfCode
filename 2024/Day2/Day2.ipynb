{
 "cells": [
  {
   "cell_type": "code",
   "metadata": {
    "ExecuteTime": {
     "end_time": "2024-12-04T09:39:31.633267Z",
     "start_time": "2024-12-04T09:39:31.398334Z"
    }
   },
   "source": [
    "import kotlin.io.path.*\n",
    "import java.math.BigInteger\n",
    "import java.security.MessageDigest\n",
    "import kotlin.io.path.Path\n",
    "import kotlin.io.path.readLines\n",
    "\n",
    "/**\n",
    " * Reads lines from the given input txt file.\n",
    " */\n",
    "fun readInput(name: String) = Path(\"./$name.input\").readLines()\n",
    "\n",
    "/**\n",
    " * Converts string to md5 hash.\n",
    " */\n",
    "fun String.md5() = BigInteger(1, MessageDigest.getInstance(\"MD5\").digest(toByteArray()))\n",
    "    .toString(16)\n",
    "    .padStart(32, '0')\n",
    "\n",
    "/**\n",
    " * The cleaner shorthand for printing output.\n",
    " */\n",
    "fun Any?.println() = println(this)\n"
   ],
   "outputs": [],
   "execution_count": 1
  },
  {
   "metadata": {
    "ExecuteTime": {
     "end_time": "2024-12-04T15:37:44.678709Z",
     "start_time": "2024-12-04T15:37:44.316144Z"
    }
   },
   "cell_type": "code",
   "source": [
    "var testInput = readInput(\"data_test\")\n",
    "var input = readInput(\"data\")\n",
    "public fun part1(input: List<String>) {\n",
    "\n",
    "    var reports = input.map {\n",
    "        it.split(\"\\\\s+\".toRegex()).map { it.toInt() };\n",
    "    }\n",
    "\n",
    "    reports.count(this::isCorrect).println()\n",
    "\n",
    "}\n",
    "\n",
    "public fun part2(input: List<String>) {\n",
    "    var reports = input.map {\n",
    "        it.split(\"\\\\s+\".toRegex()).map { it.toInt() };\n",
    "    }\n",
    "\n",
    "    reports.filter { report ->\n",
    "        val lists = createSetByRemovingEachElement(report);\n",
    "        lists.any { isCorrect(it) }\n",
    "    }.size.println()\n",
    "}\n",
    "\n",
    "fun <T> createSetByRemovingEachElement(list: List<T>): Set<List<T>> {\n",
    "    return list.indices.map { index ->\n",
    "        list.filterIndexed { i, _ -> i != index }\n",
    "    }.toSet()\n",
    "}\n",
    "\n",
    "fun isCorrect(report: List<Int>): Boolean {\n",
    "    val isDesc = report.zipWithNext().all { (a, b) -> a > b }\n",
    "    val isAsc = report.zipWithNext().all { (a, b) -> a < b }\n",
    "    val notToMuch = report.zipWithNext().all { (a, b) -> Math.abs(a - b) <= 3 }\n",
    "    return (isDesc || isAsc) && notToMuch\n",
    "}"
   ],
   "outputs": [],
   "execution_count": 15
  },
  {
   "metadata": {
    "ExecuteTime": {
     "end_time": "2024-12-04T15:13:44.918017Z",
     "start_time": "2024-12-04T15:13:44.859556Z"
    }
   },
   "cell_type": "code",
   "source": [
    "part1(testInput)\n",
    "part1(input)"
   ],
   "outputs": [
    {
     "name": "stdout",
     "output_type": "stream",
     "text": [
      "2\n",
      "359\n"
     ]
    }
   ],
   "execution_count": 12
  },
  {
   "metadata": {
    "ExecuteTime": {
     "end_time": "2024-12-04T15:37:50.542908Z",
     "start_time": "2024-12-04T15:37:50.486290Z"
    }
   },
   "cell_type": "code",
   "source": "part2(testInput)",
   "outputs": [
    {
     "name": "stdout",
     "output_type": "stream",
     "text": [
      "4\n"
     ]
    }
   ],
   "execution_count": 16
  },
  {
   "metadata": {
    "ExecuteTime": {
     "end_time": "2024-12-04T15:37:52.292286Z",
     "start_time": "2024-12-04T15:37:52.240374Z"
    }
   },
   "cell_type": "code",
   "source": "part2(input)",
   "outputs": [
    {
     "name": "stdout",
     "output_type": "stream",
     "text": [
      "418\n"
     ]
    }
   ],
   "execution_count": 17
  },
  {
   "metadata": {},
   "cell_type": "code",
   "outputs": [],
   "execution_count": null,
   "source": ""
  }
 ],
 "metadata": {
  "kernelspec": {
   "display_name": "Kotlin",
   "language": "kotlin",
   "name": "kotlin"
  },
  "language_info": {
   "name": "kotlin",
   "version": "1.9.23",
   "mimetype": "text/x-kotlin",
   "file_extension": ".kt",
   "pygments_lexer": "kotlin",
   "codemirror_mode": "text/x-kotlin",
   "nbconvert_exporter": ""
  }
 },
 "nbformat": 4,
 "nbformat_minor": 0
}
