{
 "cells": [
  {
   "cell_type": "code",
   "metadata": {
    "ExecuteTime": {
     "end_time": "2024-12-12T20:47:37.241515Z",
     "start_time": "2024-12-12T20:47:36.963676Z"
    }
   },
   "source": [
    "import kotlin.io.path.*\n",
    "import java.math.BigInteger\n",
    "import java.security.MessageDigest\n",
    "import kotlin.io.path.Path\n",
    "import kotlin.io.path.readLines\n",
    "\n",
    "\n",
    "/**\n",
    " * Reads lines from the given input txt file.\n",
    " */\n",
    "fun readInput(name: String) = Path(\"./$name.input\").readLines()\n",
    "\n",
    "/**\n",
    " * Converts string to md5 hash.\n",
    " */\n",
    "fun String.md5() = BigInteger(1, MessageDigest.getInstance(\"MD5\").digest(toByteArray()))\n",
    "    .toString(16)\n",
    "    .padStart(32, '0')\n",
    "\n",
    "/**\n",
    " * The cleaner shorthand for printing output.\n",
    " */\n",
    "fun Any?.println() = println(this)\n"
   ],
   "outputs": [],
   "execution_count": 1
  },
  {
   "metadata": {
    "ExecuteTime": {
     "end_time": "2024-12-12T20:47:39.641511Z",
     "start_time": "2024-12-12T20:47:39.113677Z"
    }
   },
   "cell_type": "code",
   "source": [
    "var testInput = readInput(\"data_test\")\n",
    "var testInput2 = readInput(\"data_test2\")\n",
    "var testInput3 = readInput(\"data_test3\")\n",
    "var input = readInput(\"data\")\n",
    "\n",
    "fun processInput(input: List<String>): MutableList<Long> {\n",
    "    return input[0].split(' ').map { it.toLong() }.toMutableList()\n",
    "}\n",
    "\n",
    "fun splitInHalf(value: Long): Pair<Long, Long> {\n",
    "    val str = value.toString()\n",
    "    val half = str.length / 2\n",
    "    return Pair(str.substring(0, half).toLong(), str.substring(half).toLong())\n",
    "}\n",
    "\n",
    "fun blink(a: MutableList<Long>): MutableList<Long> {\n",
    "    var it = a.listIterator()\n",
    "    while (it.hasNext()) {\n",
    "        val value = it.next()\n",
    "        if (value == 0L) {\n",
    "            it.set(1L)\n",
    "        } else {\n",
    "            val v = value.toString()\n",
    "            if (v.length % 2 == 0) {\n",
    "                val half = v.length / 2\n",
    "                it.set(v.substring(0, half).toLong())\n",
    "                it.add(v.substring(half).toLong())\n",
    "            } else {\n",
    "                it.set(value * 2024L)\n",
    "            }\n",
    "        }\n",
    "    }\n",
    "    a.println()\n",
    "    return a\n",
    "}\n",
    "\n",
    "public fun part1(input: List<String>, count: Int = 25) {\n",
    "    var a = processInput(input)\n",
    "    for (i in 0 until count) {\n",
    "\n",
    "        a = blink(a)\n",
    "        \"\"\"iteration:${i},size:${a.size}\"\"\".println()\n",
    "//        a.println()\n",
    "    }\n",
    "    a.size.println()\n",
    "}\n",
    "\n",
    "public fun part2(input: List<String>) {\n",
    "    part1(input, 75)\n",
    "}\n"
   ],
   "outputs": [],
   "execution_count": 2
  },
  {
   "metadata": {
    "ExecuteTime": {
     "end_time": "2024-12-12T20:48:23.620902Z",
     "start_time": "2024-12-12T20:48:23.515692Z"
    }
   },
   "cell_type": "code",
   "source": [
    "part1(testInput3, 8)\n",
    "//part1(input)"
   ],
   "outputs": [
    {
     "name": "stdout",
     "output_type": "stream",
     "text": [
      "[2024]\n",
      "iteration:0,size:1\n",
      "[20, 24]\n",
      "iteration:1,size:2\n",
      "[2, 0, 2, 4]\n",
      "iteration:2,size:4\n",
      "[4048, 1, 4048, 8096]\n",
      "iteration:3,size:4\n",
      "[40, 48, 2024, 40, 48, 80, 96]\n",
      "iteration:4,size:7\n",
      "[4, 0, 4, 8, 20, 24, 4, 0, 4, 8, 8, 0, 9, 6]\n",
      "iteration:5,size:14\n",
      "[8096, 1, 8096, 16192, 2, 0, 2, 4, 8096, 1, 8096, 16192, 16192, 1, 18216, 12144]\n",
      "iteration:6,size:16\n",
      "[80, 96, 2024, 80, 96, 32772608, 4048, 1, 4048, 8096, 80, 96, 2024, 80, 96, 32772608, 32772608, 2024, 36869184, 24579456]\n",
      "iteration:7,size:20\n",
      "20\n"
     ]
    }
   ],
   "execution_count": 4
  },
  {
   "metadata": {},
   "cell_type": "code",
   "source": [
    "//part2(testInput2)\n",
    "//part1(testInput3, 75)"
   ],
   "outputs": [],
   "execution_count": null
  },
  {
   "metadata": {},
   "cell_type": "code",
   "source": "//part2(input)",
   "outputs": [],
   "execution_count": null
  },
  {
   "metadata": {},
   "cell_type": "code",
   "source": "",
   "outputs": [],
   "execution_count": null
  }
 ],
 "metadata": {
  "kernelspec": {
   "display_name": "Kotlin",
   "language": "kotlin",
   "name": "kotlin"
  },
  "language_info": {
   "name": "kotlin",
   "version": "1.9.23",
   "mimetype": "text/x-kotlin",
   "file_extension": ".kt",
   "pygments_lexer": "kotlin",
   "codemirror_mode": "text/x-kotlin",
   "nbconvert_exporter": ""
  }
 },
 "nbformat": 4,
 "nbformat_minor": 0
}
