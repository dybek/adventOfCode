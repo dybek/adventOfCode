{
 "cells": [
  {
   "cell_type": "code",
   "metadata": {
    "ExecuteTime": {
     "end_time": "2024-12-07T23:37:12.396004Z",
     "start_time": "2024-12-07T23:37:11.098471Z"
    }
   },
   "source": [
    "import kotlin.io.path.*\n",
    "import java.math.BigInteger\n",
    "import java.security.MessageDigest\n",
    "import kotlin.io.path.Path\n",
    "import kotlin.io.path.readLines\n",
    "\n",
    "%use multik\n",
    "\n",
    "/**\n",
    " * Reads lines from the given input txt file.\n",
    " */\n",
    "fun readInput(name: String) = Path(\"./$name.input\").readLines()\n",
    "\n",
    "/**\n",
    " * Converts string to md5 hash.\n",
    " */\n",
    "fun String.md5() = BigInteger(1, MessageDigest.getInstance(\"MD5\").digest(toByteArray()))\n",
    "    .toString(16)\n",
    "    .padStart(32, '0')\n",
    "\n",
    "/**\n",
    " * The cleaner shorthand for printing output.\n",
    " */\n",
    "fun Any?.println() = println(this)\n"
   ],
   "outputs": [],
   "execution_count": 5
  },
  {
   "metadata": {
    "ExecuteTime": {
     "end_time": "2024-12-08T13:49:35.293916Z",
     "start_time": "2024-12-08T13:49:35.012637Z"
    }
   },
   "cell_type": "code",
   "source": [
    "var testInput = readInput(\"data_test\")\n",
    "var input = readInput(\"data\")\n",
    "\n",
    "val directions = listOf(\n",
    "    arrayOf(0, -1),\n",
    "    arrayOf(1, -1),\n",
    "    arrayOf(1, 0),\n",
    "    arrayOf(1, 1),\n",
    "    arrayOf(0, 1),\n",
    "    arrayOf(-1, 1),\n",
    "    arrayOf(-1, 0),\n",
    "    arrayOf(-1, -1)\n",
    ")\n",
    "\n",
    "fun checkDirection(a: Array<CharArray>, x: Int, y: Int, d: Array<Int>): Boolean {\n",
    "    try {\n",
    "        var x1 = x\n",
    "        var y1 = y\n",
    "        for (letter in \"XMAS\") {\n",
    "            val currentLetter = a[x1][y1]\n",
    "            if (currentLetter != letter) {\n",
    "                return false\n",
    "            }\n",
    "            x1 += d[0]\n",
    "            y1 += d[1]\n",
    "        }\n",
    "    } catch (e: ArrayIndexOutOfBoundsException) {\n",
    "        return false\n",
    "    }\n",
    "    return true\n",
    "}\n",
    "\n",
    "fun checkAllDirections(a: Array<CharArray>, x: Int, y: Int): Int {\n",
    "    return directions.filter { d -> checkDirection(a, x, y, d) }.size\n",
    "}\n",
    "\n",
    "fun checkXDirections(a: Array<CharArray>, x: Int, y: Int): Int {\n",
    "    try {\n",
    "\n",
    "\n",
    "        if (a[x][y] != 'A') {\n",
    "            return 0\n",
    "        }\n",
    "        val directions = listOf(\n",
    "            Pair(Pair(-1, -1), Pair(1, 1)),\n",
    "            Pair(Pair(1, -1), Pair(-1, 1)),\n",
    "            Pair(Pair(1, 1), Pair(-1, -1)),\n",
    "            Pair(Pair(-1, 1), Pair(1, -1)),\n",
    "        )\n",
    "        return directions.filter { d ->\n",
    "            val (m, s) = d;\n",
    "            a[x + m.first][y + m.second] == 'M' && a[x + s.first][y + s.second] == 'S'\n",
    "        }.size\n",
    "    } catch (e: ArrayIndexOutOfBoundsException) {\n",
    "        return 0\n",
    "    }\n",
    "}\n",
    "\n",
    "public fun part1(input: List<String>) {\n",
    "\n",
    "    val a = input.map { it.toCharArray() }.toTypedArray()\n",
    "    var sum = 0;\n",
    "    for (i in a.indices) {\n",
    "        for (j in a[i].indices) {\n",
    "            sum += checkAllDirections(a, i, j)\n",
    "        }\n",
    "    }\n",
    "    sum.println()\n",
    "\n",
    "}\n",
    "\n",
    "public fun part2(input: List<String>) {\n",
    "\n",
    "    val a = input.map { it.toCharArray() }.toTypedArray()\n",
    "    var sum = 0;\n",
    "    for (i in a.indices) {\n",
    "        for (j in a[i].indices) {\n",
    "            if (checkXDirections(a, i, j) == 2) sum++\n",
    "        }\n",
    "    }\n",
    "    sum.println()\n",
    "\n",
    "}\n"
   ],
   "outputs": [],
   "execution_count": 24
  },
  {
   "metadata": {
    "ExecuteTime": {
     "end_time": "2024-12-08T13:49:36.323767Z",
     "start_time": "2024-12-08T13:49:36.252621Z"
    }
   },
   "cell_type": "code",
   "source": [
    "part1(testInput)\n",
    "part1(input)"
   ],
   "outputs": [
    {
     "name": "stdout",
     "output_type": "stream",
     "text": [
      "18\n",
      "2344\n"
     ]
    }
   ],
   "execution_count": 25
  },
  {
   "metadata": {
    "ExecuteTime": {
     "end_time": "2024-12-08T13:49:37.457505Z",
     "start_time": "2024-12-08T13:49:37.407244Z"
    }
   },
   "cell_type": "code",
   "source": "part2(testInput)",
   "outputs": [
    {
     "name": "stdout",
     "output_type": "stream",
     "text": [
      "9\n"
     ]
    }
   ],
   "execution_count": 26
  },
  {
   "metadata": {
    "ExecuteTime": {
     "end_time": "2024-12-08T13:49:39.261195Z",
     "start_time": "2024-12-08T13:49:39.226232Z"
    }
   },
   "cell_type": "code",
   "source": "part2(input)",
   "outputs": [
    {
     "name": "stdout",
     "output_type": "stream",
     "text": [
      "1815\n"
     ]
    }
   ],
   "execution_count": 27
  },
  {
   "metadata": {},
   "cell_type": "code",
   "outputs": [],
   "execution_count": null,
   "source": ""
  }
 ],
 "metadata": {
  "kernelspec": {
   "display_name": "Kotlin",
   "language": "kotlin",
   "name": "kotlin"
  },
  "language_info": {
   "name": "kotlin",
   "version": "1.9.23",
   "mimetype": "text/x-kotlin",
   "file_extension": ".kt",
   "pygments_lexer": "kotlin",
   "codemirror_mode": "text/x-kotlin",
   "nbconvert_exporter": ""
  }
 },
 "nbformat": 4,
 "nbformat_minor": 0
}
