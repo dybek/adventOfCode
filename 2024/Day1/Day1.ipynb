{
 "cells": [
  {
   "cell_type": "code",
   "metadata": {
    "ExecuteTime": {
     "end_time": "2024-12-03T21:16:54.841155Z",
     "start_time": "2024-12-03T21:16:54.741094Z"
    }
   },
   "source": [
    "import kotlin.io.path.*\n",
    "import java.math.BigInteger\n",
    "import java.security.MessageDigest\n",
    "import kotlin.io.path.Path\n",
    "import kotlin.io.path.readLines\n",
    "\n",
    "/**\n",
    " * Reads lines from the given input txt file.\n",
    " */\n",
    "fun readInput(name: String) = Path(\"./$name.input\").readLines()\n",
    "\n",
    "/**\n",
    " * Converts string to md5 hash.\n",
    " */\n",
    "fun String.md5() = BigInteger(1, MessageDigest.getInstance(\"MD5\").digest(toByteArray()))\n",
    "    .toString(16)\n",
    "    .padStart(32, '0')\n",
    "\n",
    "/**\n",
    " * The cleaner shorthand for printing output.\n",
    " */\n",
    "fun Any?.println() = println(this)\n"
   ],
   "outputs": [],
   "execution_count": 12
  },
  {
   "metadata": {
    "collapsed": true,
    "ExecuteTime": {
     "end_time": "2024-12-04T00:24:39.362859Z",
     "start_time": "2024-12-04T00:24:39.154329Z"
    }
   },
   "cell_type": "code",
   "source": [
    "\n",
    "var testInput = readInput(\"data_test\")\n",
    "var input = readInput(\"data\")\n",
    "public fun part1(input: List<String>) {\n",
    "    var left = listOf<Int>()\n",
    "    var right = listOf<Int>()\n",
    "    input.forEach{\n",
    "        var (l,r) = it.split(\"\\\\s+\".toRegex()).map{it.toInt()};\n",
    "        left += l\n",
    "        right += r\n",
    "    }\n",
    "\n",
    "    left.sorted().zip(right.sorted()).map{\n",
    "        Math.abs(it.first - it.second)\n",
    "    }.sum().println()\n",
    "}\n",
    "\n",
    "public fun part2(input: List<String>) {\n",
    "    var left = listOf<Int>()\n",
    "    var right = listOf<Int>()\n",
    "    input.forEach{\n",
    "        var (l,r) = it.split(\"\\\\s+\".toRegex()).map{it.toInt()};\n",
    "        left += l\n",
    "        right += r\n",
    "    }\n",
    "\n",
    "    val rightSorted = right.sorted()\n",
    "    left.sorted().map{fromLeft ->\n",
    "        fromLeft * rightSorted.filter { it == fromLeft }.size\n",
    "    }.sum().println()\n",
    "}"
   ],
   "outputs": [],
   "execution_count": 26
  },
  {
   "metadata": {
    "ExecuteTime": {
     "end_time": "2024-12-04T00:19:00.600325Z",
     "start_time": "2024-12-04T00:19:00.546471Z"
    }
   },
   "cell_type": "code",
   "source": [
    "part1(testInput)\n",
    "part1(input)"
   ],
   "outputs": [
    {
     "name": "stdout",
     "output_type": "stream",
     "text": [
      "11\n",
      "1941353\n"
     ]
    }
   ],
   "execution_count": 25
  },
  {
   "metadata": {
    "ExecuteTime": {
     "end_time": "2024-12-04T00:24:52.438903Z",
     "start_time": "2024-12-04T00:24:52.404716Z"
    }
   },
   "cell_type": "code",
   "source": "part2(testInput)",
   "outputs": [
    {
     "name": "stdout",
     "output_type": "stream",
     "text": [
      "31\n"
     ]
    }
   ],
   "execution_count": 27
  },
  {
   "metadata": {
    "ExecuteTime": {
     "end_time": "2024-12-04T00:25:06.043425Z",
     "start_time": "2024-12-04T00:25:05.986281Z"
    }
   },
   "cell_type": "code",
   "source": "part2(input)",
   "outputs": [
    {
     "name": "stdout",
     "output_type": "stream",
     "text": [
      "22539317\n"
     ]
    }
   ],
   "execution_count": 28
  },
  {
   "metadata": {},
   "cell_type": "code",
   "outputs": [],
   "execution_count": null,
   "source": ""
  }
 ],
 "metadata": {
  "kernelspec": {
   "display_name": "Kotlin",
   "language": "kotlin",
   "name": "kotlin"
  },
  "language_info": {
   "name": "kotlin",
   "version": "1.9.23",
   "mimetype": "text/x-kotlin",
   "file_extension": ".kt",
   "pygments_lexer": "kotlin",
   "codemirror_mode": "text/x-kotlin",
   "nbconvert_exporter": ""
  }
 },
 "nbformat": 4,
 "nbformat_minor": 0
}
