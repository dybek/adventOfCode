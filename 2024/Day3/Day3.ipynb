{
 "cells": [
  {
   "cell_type": "code",
   "metadata": {
    "ExecuteTime": {
     "end_time": "2024-12-04T20:39:21.135087Z",
     "start_time": "2024-12-04T20:39:20.870421Z"
    }
   },
   "source": [
    "import kotlin.io.path.*\n",
    "import java.math.BigInteger\n",
    "import java.security.MessageDigest\n",
    "import kotlin.io.path.Path\n",
    "import kotlin.io.path.readLines\n",
    "\n",
    "/**\n",
    " * Reads lines from the given input txt file.\n",
    " */\n",
    "fun readInput(name: String) = Path(\"./$name.input\").readLines()\n",
    "\n",
    "/**\n",
    " * Converts string to md5 hash.\n",
    " */\n",
    "fun String.md5() = BigInteger(1, MessageDigest.getInstance(\"MD5\").digest(toByteArray()))\n",
    "    .toString(16)\n",
    "    .padStart(32, '0')\n",
    "\n",
    "/**\n",
    " * The cleaner shorthand for printing output.\n",
    " */\n",
    "fun Any?.println() = println(this)\n"
   ],
   "outputs": [],
   "execution_count": 1
  },
  {
   "metadata": {
    "ExecuteTime": {
     "end_time": "2024-12-04T21:19:21.977536Z",
     "start_time": "2024-12-04T21:19:21.598977Z"
    }
   },
   "cell_type": "code",
   "source": [
    "var testInput = readInput(\"data_test\")\n",
    "var input = readInput(\"data\")\n",
    "public fun part1(input: List<String>) {\n",
    "\n",
    "    var fullInput = input.joinToString(\"\\n\")\n",
    "    val regex = \"mul\\\\((\\\\d+),(\\\\d+)\\\\)\".toRegex(RegexOption.MULTILINE)\n",
    "\n",
    "    val matches = regex.findAll(fullInput)\n",
    "    matches.map { match ->\n",
    "        match.destructured\n",
    "    }.map { (a, b) ->\n",
    "        a.toInt() * b.toInt()\n",
    "    }.sum().println()\n",
    "\n",
    "}\n",
    "\n",
    "public fun part2(input: List<String>) {\n",
    "\n",
    "    var fullInput = input.joinToString(\"\\n\")\n",
    "    val regex = \"don't\\\\(\\\\)|do\\\\(\\\\)|mul\\\\((\\\\d+),(\\\\d+)\\\\)\".toRegex(RegexOption.MULTILINE)\n",
    "\n",
    "    val matches = regex.findAll(fullInput)\n",
    "    var enabled = true\n",
    "    var result = 0\n",
    "    for (match in matches) {\n",
    "        if (match.groupValues[0] == \"do()\") {\n",
    "            enabled = true\n",
    "            continue\n",
    "        }\n",
    "        if (match.groupValues[0] == \"don't()\") {\n",
    "            enabled = false\n",
    "            continue\n",
    "        }\n",
    "        if (enabled) {\n",
    "            val (a, b) = match.destructured\n",
    "            result += (a.toInt() * b.toInt())\n",
    "        }\n",
    "    }\n",
    "    result.println()\n",
    "    /*    matches.map { match ->\n",
    "            match.destructured\n",
    "        }.map { (a, b) ->\n",
    "            a.toInt() * b.toInt()\n",
    "        }.sum().println()*/\n",
    "\n",
    "}\n"
   ],
   "outputs": [],
   "execution_count": 15
  },
  {
   "metadata": {
    "ExecuteTime": {
     "end_time": "2024-12-04T21:09:45.770580Z",
     "start_time": "2024-12-04T21:09:45.698483Z"
    }
   },
   "cell_type": "code",
   "source": [
    "part1(testInput)\n",
    "part1(input)"
   ],
   "outputs": [
    {
     "name": "stdout",
     "output_type": "stream",
     "text": [
      "161\n",
      "167650499\n"
     ]
    }
   ],
   "execution_count": 10
  },
  {
   "metadata": {
    "ExecuteTime": {
     "end_time": "2024-12-04T21:19:28.920728Z",
     "start_time": "2024-12-04T21:19:28.824929Z"
    }
   },
   "cell_type": "code",
   "source": [
    "var testInput2 = readInput(\"data_test2\")\n",
    "part2(testInput2)"
   ],
   "outputs": [
    {
     "name": "stdout",
     "output_type": "stream",
     "text": [
      "48\n"
     ]
    }
   ],
   "execution_count": 17
  },
  {
   "metadata": {
    "ExecuteTime": {
     "end_time": "2024-12-04T21:19:33.459048Z",
     "start_time": "2024-12-04T21:19:33.399228Z"
    }
   },
   "cell_type": "code",
   "source": "part2(input)",
   "outputs": [
    {
     "name": "stdout",
     "output_type": "stream",
     "text": [
      "95846796\n"
     ]
    }
   ],
   "execution_count": 18
  },
  {
   "metadata": {},
   "cell_type": "code",
   "outputs": [],
   "execution_count": null,
   "source": ""
  }
 ],
 "metadata": {
  "kernelspec": {
   "display_name": "Kotlin",
   "language": "kotlin",
   "name": "kotlin"
  },
  "language_info": {
   "name": "kotlin",
   "version": "1.9.23",
   "mimetype": "text/x-kotlin",
   "file_extension": ".kt",
   "pygments_lexer": "kotlin",
   "codemirror_mode": "text/x-kotlin",
   "nbconvert_exporter": ""
  }
 },
 "nbformat": 4,
 "nbformat_minor": 0
}
